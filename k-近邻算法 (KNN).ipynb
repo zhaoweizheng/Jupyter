{
 "cells": [
  {
   "cell_type": "code",
   "execution_count": 1,
   "metadata": {},
   "outputs": [],
   "source": [
    "import numpy as np"
   ]
  },
  {
   "cell_type": "markdown",
   "metadata": {},
   "source": [
    "### 一. 原始数据为 (身高, 体重与性别对应关系表)\n",
    "|身高(cm)|体重(kg)|性别|\n",
    "| :----: | :----: | :----: |\n",
    "|180|76|男|\n",
    "|158|43|女|\n",
    "|176|78|男|\n",
    "|161|49|女|\n",
    "\n",
    "\n",
    "\n",
    "\n"
   ]
  },
  {
   "cell_type": "markdown",
   "metadata": {},
   "source": [
    "### 二. 数据标注化\n",
    "数据标准化(Normalization): 将数据按照一定的比例进行缩放, 使其落入一个特定的小区间\n",
    "常见的数据标准化方法有6中:\n",
    "1. Min-Max标准化: 对原始数据进行线性变换, 将值映射到[0,1]之间\n",
    "计算公式为: $$x^` = \\frac{x-x_{min}}{x_{max}-x_{min}}$$\n",
    "\n",
    "\n",
    "\n",
    "2. Z-Score标准化: 基于原始数据的均值(mean)和标准差(standard deviation)来进行数据的标准化. \n",
    "计算公式: $$ x^` = \\frac{x-{\\mu}}{\\sigma}$$\n",
    "\n",
    "\n",
    "3. 小数定标 标准化: 通过移动小数点的位置来进行数据的不标准化. 小数点移动的位数取决于原始数据中的最大绝对值.\n",
    "\n",
    "计算公式: $$ x^` = \\frac{x}{10^j}$$\n",
    "\n",
    "4. 均值归一化法 : 通过原始数据中的均值, 最大值和最小值来进行数据的标准化.\n",
    "计算公式: $$x^` = \\frac{x-{\\mu}}{x_{max}-x_{min}}$$\n",
    "\n",
    "5. 向量归一化: 通过原始数据中的每个值除以所有数据之和来进行数据点的标准化.\n",
    "计算公式: $$ x^` = \\frac{x}{\\sum_{i=1}^{n}x_i}$$\n",
    "\n",
    "6. 指数转换 : 通过对原始数据的值进行相应的指数函数变化来进行数据的标注化"
   ]
  },
  {
   "cell_type": "code",
   "execution_count": 56,
   "metadata": {},
   "outputs": [],
   "source": [
    "class KNN:\n",
    "    def __init__(self, k):\n",
    "        self.k = k\n",
    "    \n",
    "    # 准备数据\n",
    "    def createData(self):\n",
    "        features = np.array([[180,76], [158,43], [176,78], [161,49]])\n",
    "        labels = [\"男\", \"女\", \"男\", \"女\"]\n",
    "        return features, labels\n",
    "    \n",
    "    # 数据进行min-max标准化(由于身高和体重不在一个重量级上, 所以要进行标准化处理)\n",
    "    def Normalization(self, data):\n",
    "        maxs = np.max(data, axis=0)\n",
    "        mins = np.min(data, axis=0)\n",
    "        new_data = (data-mins)/(maxs-mins)\n",
    "        return new_data, maxs, mins\n",
    "    \n",
    "    # 计算k最近邻\n",
    "    def classify(self, one, data, labels):\n",
    "        # 计算新样本与数据集中每个样本本直接的距离, 这里采用的是欧式距离计算方式\n",
    "        differenceData = data - one\n",
    "        squareData = (differenceData ** 2).sum(axis=1)\n",
    "        distace = squareData ** 0.5\n",
    "        # 排序,获取索引的排序\n",
    "        sortDistanceIndex = distace.argsort()\n",
    "        # 统计k最近邻的label\n",
    "        labelCount = dict()\n",
    "        for i in range(self.k):\n",
    "            label = labels[sortDistanceIndex[i]]\n",
    "            labelCount.setdefault(label,0)\n",
    "            labelCount[label] += 1\n",
    "            \n",
    "        # 计算结果\n",
    "        sortLabelCount = sorted(labelCount.items(), key=lambda x:x[1], reverse=True)\n",
    "        print(sortLabelCount)\n",
    "        return sortLabelCount[0][0]\n",
    "    \n",
    "    \n",
    "    \n",
    "    "
   ]
  },
  {
   "cell_type": "code",
   "execution_count": 60,
   "metadata": {
    "scrolled": true
   },
   "outputs": [
    {
     "name": "stdout",
     "output_type": "stream",
     "text": [
      "[('男', 2), ('女', 1)]\n",
      "数据 [176  76] 的预测性别为: 男\n"
     ]
    }
   ],
   "source": [
    "if __name__ == \"__main__\":\n",
    "       \n",
    "    knn = KNN(3) # 选择k=3\n",
    "        \n",
    "    # 创建数据集\n",
    "    features, labels = knn.createData()\n",
    "    # 数据集标注化\n",
    "    new_data, maxs, mins = knn.Normalization(features)\n",
    " \n",
    "    # 比如新数据身高176cm, 体重76kg\n",
    "    one = np.array([176,76])\n",
    "        \n",
    "    # 新数据标注化\n",
    "    new_one = (one-mins) / (maxs-mins)\n",
    "    #计算新数据的性别\n",
    "    result = knn.classify(new_one, new_data, labels)\n",
    "    print(\"数据 {} 的预测性别为: {}\".format(one, result))\n",
    "        \n",
    "        "
   ]
  },
  {
   "cell_type": "code",
   "execution_count": null,
   "metadata": {},
   "outputs": [],
   "source": []
  }
 ],
 "metadata": {
  "kernelspec": {
   "display_name": "Python 3",
   "language": "python",
   "name": "python3"
  },
  "language_info": {
   "codemirror_mode": {
    "name": "ipython",
    "version": 3
   },
   "file_extension": ".py",
   "mimetype": "text/x-python",
   "name": "python",
   "nbconvert_exporter": "python",
   "pygments_lexer": "ipython3",
   "version": "3.7.1"
  }
 },
 "nbformat": 4,
 "nbformat_minor": 2
}
