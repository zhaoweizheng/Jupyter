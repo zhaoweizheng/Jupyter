{
 "cells": [
  {
   "cell_type": "code",
   "execution_count": 1,
   "metadata": {},
   "outputs": [],
   "source": [
    "import pandas as pd"
   ]
  },
  {
   "cell_type": "markdown",
   "metadata": {},
   "source": [
    "# JSON"
   ]
  },
  {
   "cell_type": "code",
   "execution_count": 18,
   "metadata": {},
   "outputs": [],
   "source": [
    "import json\n",
    "import pprint"
   ]
  },
  {
   "cell_type": "markdown",
   "metadata": {},
   "source": [
    " - object\n",
    "     - `{pair1, pair2,.....}`\n",
    " - pair\n",
    "     - `String : value`\n",
    " - array\n",
    "     - `[value1, value2, value3,...., valuenn]`\n",
    " - value\n",
    "     - `object`\n",
    "     - `string`\n",
    "     - `number`\n",
    "     - `array`\n",
    "     "
   ]
  },
  {
   "cell_type": "code",
   "execution_count": 10,
   "metadata": {},
   "outputs": [],
   "source": [
    "\n",
    "a = \"\"\"{\n",
    "    \"名字\":\"张三\",\n",
    "    \"年龄\": 23,\n",
    "    \"编程\": [\"c++\", \"python\",\"matlab\"],\n",
    "    \"爱好\": {\n",
    "        \"足球\":10,\n",
    "        \"羽毛球\":5,\n",
    "        \"读书\":15\n",
    "    }\n",
    "}\n",
    "\"\"\""
   ]
  },
  {
   "cell_type": "code",
   "execution_count": 12,
   "metadata": {},
   "outputs": [],
   "source": [
    "d = json.loads(a)"
   ]
  },
  {
   "cell_type": "code",
   "execution_count": 13,
   "metadata": {},
   "outputs": [
    {
     "data": {
      "text/plain": [
       "dict"
      ]
     },
     "execution_count": 13,
     "metadata": {},
     "output_type": "execute_result"
    }
   ],
   "source": [
    "type(d)"
   ]
  },
  {
   "cell_type": "code",
   "execution_count": 14,
   "metadata": {},
   "outputs": [
    {
     "data": {
      "text/plain": [
       "'张三'"
      ]
     },
     "execution_count": 14,
     "metadata": {},
     "output_type": "execute_result"
    }
   ],
   "source": [
    "d[\"名字\"]"
   ]
  },
  {
   "cell_type": "code",
   "execution_count": 15,
   "metadata": {},
   "outputs": [
    {
     "data": {
      "text/plain": [
       "['c++', 'python', 'matlab']"
      ]
     },
     "execution_count": 15,
     "metadata": {},
     "output_type": "execute_result"
    }
   ],
   "source": [
    "d[\"编程\"]"
   ]
  },
  {
   "cell_type": "code",
   "execution_count": 16,
   "metadata": {},
   "outputs": [
    {
     "data": {
      "text/plain": [
       "{'足球': 10, '羽毛球': 5, '读书': 15}"
      ]
     },
     "execution_count": 16,
     "metadata": {},
     "output_type": "execute_result"
    }
   ],
   "source": [
    "d[\"爱好\"]"
   ]
  },
  {
   "cell_type": "code",
   "execution_count": 17,
   "metadata": {},
   "outputs": [
    {
     "name": "stdout",
     "output_type": "stream",
     "text": [
      "{'名字': '张三', '年龄': 23, '编程': ['c++', 'python', 'matlab'], '爱好': {'足球': 10, '羽毛球': 5, '读书': 15}}\n"
     ]
    }
   ],
   "source": [
    "print(d)"
   ]
  },
  {
   "cell_type": "code",
   "execution_count": 19,
   "metadata": {},
   "outputs": [
    {
     "name": "stdout",
     "output_type": "stream",
     "text": [
      "{'名字': '张三',\n",
      " '年龄': 23,\n",
      " '爱好': {'羽毛球': 5, '读书': 15, '足球': 10},\n",
      " '编程': ['c++', 'python', 'matlab']}\n"
     ]
    }
   ],
   "source": [
    "pprint.pprint(d)"
   ]
  },
  {
   "cell_type": "code",
   "execution_count": 20,
   "metadata": {},
   "outputs": [
    {
     "data": {
      "text/plain": [
       "{'名字': '张三',\n",
       " '年龄': 23,\n",
       " '编程': ['c++', 'python', 'matlab'],\n",
       " '爱好': {'足球': 10, '羽毛球': 5, '读书': 15}}"
      ]
     },
     "execution_count": 20,
     "metadata": {},
     "output_type": "execute_result"
    }
   ],
   "source": [
    "d"
   ]
  },
  {
   "cell_type": "code",
   "execution_count": 21,
   "metadata": {},
   "outputs": [
    {
     "data": {
      "text/plain": [
       "'{\"\\\\u540d\\\\u5b57\": \"\\\\u5f20\\\\u4e09\", \"\\\\u5e74\\\\u9f84\": 23, \"\\\\u7f16\\\\u7a0b\": [\"c++\", \"python\", \"matlab\"], \"\\\\u7231\\\\u597d\": {\"\\\\u8db3\\\\u7403\": 10, \"\\\\u7fbd\\\\u6bdb\\\\u7403\": 5, \"\\\\u8bfb\\\\u4e66\": 15}}'"
      ]
     },
     "execution_count": 21,
     "metadata": {},
     "output_type": "execute_result"
    }
   ],
   "source": [
    "json.dumps(d)"
   ]
  },
  {
   "cell_type": "code",
   "execution_count": 22,
   "metadata": {},
   "outputs": [],
   "source": [
    "with open(\"info.json\", \"w\") as f:\n",
    "    json.dump(d,f)"
   ]
  },
  {
   "cell_type": "code",
   "execution_count": 23,
   "metadata": {},
   "outputs": [],
   "source": [
    "with open(\"info.json\") as f:\n",
    "    d2 = json.load(f)\n",
    "    "
   ]
  },
  {
   "cell_type": "code",
   "execution_count": 24,
   "metadata": {},
   "outputs": [
    {
     "data": {
      "text/plain": [
       "{'名字': '张三',\n",
       " '年龄': 23,\n",
       " '编程': ['c++', 'python', 'matlab'],\n",
       " '爱好': {'足球': 10, '羽毛球': 5, '读书': 15}}"
      ]
     },
     "execution_count": 24,
     "metadata": {},
     "output_type": "execute_result"
    }
   ],
   "source": [
    "d2"
   ]
  },
  {
   "cell_type": "markdown",
   "metadata": {},
   "source": [
    "## pickle"
   ]
  },
  {
   "cell_type": "code",
   "execution_count": 25,
   "metadata": {},
   "outputs": [],
   "source": [
    "import pickle"
   ]
  },
  {
   "cell_type": "code",
   "execution_count": 26,
   "metadata": {},
   "outputs": [
    {
     "data": {
      "text/plain": [
       "{'名字': '张三',\n",
       " '年龄': 23,\n",
       " '编程': ['c++', 'python', 'matlab'],\n",
       " '爱好': {'足球': 10, '羽毛球': 5, '读书': 15}}"
      ]
     },
     "execution_count": 26,
     "metadata": {},
     "output_type": "execute_result"
    }
   ],
   "source": [
    "d"
   ]
  },
  {
   "cell_type": "code",
   "execution_count": 28,
   "metadata": {},
   "outputs": [
    {
     "data": {
      "text/plain": [
       "b'\\x80\\x03}q\\x00(X\\x06\\x00\\x00\\x00\\xe5\\x90\\x8d\\xe5\\xad\\x97q\\x01X\\x06\\x00\\x00\\x00\\xe5\\xbc\\xa0\\xe4\\xb8\\x89q\\x02X\\x06\\x00\\x00\\x00\\xe5\\xb9\\xb4\\xe9\\xbe\\x84q\\x03K\\x17X\\x06\\x00\\x00\\x00\\xe7\\xbc\\x96\\xe7\\xa8\\x8bq\\x04]q\\x05(X\\x03\\x00\\x00\\x00c++q\\x06X\\x06\\x00\\x00\\x00pythonq\\x07X\\x06\\x00\\x00\\x00matlabq\\x08eX\\x06\\x00\\x00\\x00\\xe7\\x88\\xb1\\xe5\\xa5\\xbdq\\t}q\\n(X\\x06\\x00\\x00\\x00\\xe8\\xb6\\xb3\\xe7\\x90\\x83q\\x0bK\\nX\\t\\x00\\x00\\x00\\xe7\\xbe\\xbd\\xe6\\xaf\\x9b\\xe7\\x90\\x83q\\x0cK\\x05X\\x06\\x00\\x00\\x00\\xe8\\xaf\\xbb\\xe4\\xb9\\xa6q\\rK\\x0fuu.'"
      ]
     },
     "execution_count": 28,
     "metadata": {},
     "output_type": "execute_result"
    }
   ],
   "source": [
    "pickle.dumps(d)"
   ]
  },
  {
   "cell_type": "markdown",
   "metadata": {},
   "source": [
    "##  H5"
   ]
  },
  {
   "cell_type": "code",
   "execution_count": 29,
   "metadata": {},
   "outputs": [],
   "source": [
    "import h5py"
   ]
  },
  {
   "cell_type": "code",
   "execution_count": 30,
   "metadata": {},
   "outputs": [],
   "source": [
    "f = h5py.File(\"info.h5\")"
   ]
  },
  {
   "cell_type": "code",
   "execution_count": 31,
   "metadata": {},
   "outputs": [
    {
     "data": {
      "text/plain": [
       "<HDF5 file \"info.h5\" (mode r+)>"
      ]
     },
     "execution_count": 31,
     "metadata": {},
     "output_type": "execute_result"
    }
   ],
   "source": [
    "f"
   ]
  },
  {
   "cell_type": "code",
   "execution_count": 32,
   "metadata": {},
   "outputs": [
    {
     "data": {
      "text/plain": [
       "<HDF5 dataset \"data\": shape (10, 20), type \"<f4\">"
      ]
     },
     "execution_count": 32,
     "metadata": {},
     "output_type": "execute_result"
    }
   ],
   "source": [
    "f.create_dataset(\"data\", shape=(10,20))"
   ]
  },
  {
   "cell_type": "code",
   "execution_count": 33,
   "metadata": {},
   "outputs": [],
   "source": [
    "import numpy as np"
   ]
  },
  {
   "cell_type": "code",
   "execution_count": 34,
   "metadata": {},
   "outputs": [],
   "source": [
    "a  = np.random.rand(10,20)\n"
   ]
  },
  {
   "cell_type": "code",
   "execution_count": 35,
   "metadata": {},
   "outputs": [],
   "source": [
    "f[\"data\"][:] = a"
   ]
  },
  {
   "cell_type": "code",
   "execution_count": 36,
   "metadata": {},
   "outputs": [
    {
     "data": {
      "text/plain": [
       "array([0.59321966, 0.47881719, 0.04237252, 0.08438133, 0.8775625 ,\n",
       "       0.52233957, 0.53986424, 0.42726333, 0.88662595, 0.12895702,\n",
       "       0.69064332, 0.54961659, 0.48742829, 0.08193426, 0.26870479,\n",
       "       0.2986213 , 0.38289137, 0.65364853, 0.1886543 , 0.58675432])"
      ]
     },
     "execution_count": 36,
     "metadata": {},
     "output_type": "execute_result"
    }
   ],
   "source": [
    "a[0]"
   ]
  },
  {
   "cell_type": "code",
   "execution_count": 39,
   "metadata": {},
   "outputs": [],
   "source": [
    "f.close()"
   ]
  },
  {
   "cell_type": "code",
   "execution_count": 40,
   "metadata": {},
   "outputs": [],
   "source": [
    "f = h5py.File(\"info.h5\")"
   ]
  },
  {
   "cell_type": "code",
   "execution_count": 42,
   "metadata": {},
   "outputs": [
    {
     "data": {
      "text/plain": [
       "array([0.59321964, 0.4788172 , 0.04237252, 0.08438133, 0.8775625 ,\n",
       "       0.5223396 , 0.53986424, 0.42726332, 0.88662595, 0.12895702,\n",
       "       0.6906433 , 0.5496166 , 0.48742828, 0.08193426, 0.2687048 ,\n",
       "       0.2986213 , 0.38289136, 0.65364856, 0.1886543 , 0.5867543 ],\n",
       "      dtype=float32)"
      ]
     },
     "execution_count": 42,
     "metadata": {},
     "output_type": "execute_result"
    }
   ],
   "source": [
    "f[\"data\"][0]"
   ]
  },
  {
   "cell_type": "code",
   "execution_count": null,
   "metadata": {},
   "outputs": [],
   "source": []
  }
 ],
 "metadata": {
  "kernelspec": {
   "display_name": "Python 3",
   "language": "python",
   "name": "python3"
  },
  "language_info": {
   "codemirror_mode": {
    "name": "ipython",
    "version": 3
   },
   "file_extension": ".py",
   "mimetype": "text/x-python",
   "name": "python",
   "nbconvert_exporter": "python",
   "pygments_lexer": "ipython3",
   "version": "3.7.1"
  }
 },
 "nbformat": 4,
 "nbformat_minor": 2
}
