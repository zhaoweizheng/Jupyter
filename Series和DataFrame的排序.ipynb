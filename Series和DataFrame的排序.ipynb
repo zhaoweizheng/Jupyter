{
 "cells": [
  {
   "cell_type": "code",
   "execution_count": 2,
   "metadata": {},
   "outputs": [],
   "source": [
    "import numpy as np\n",
    "import pandas as pd\n",
    "from pandas import Series, DataFrame"
   ]
  },
  {
   "cell_type": "markdown",
   "metadata": {},
   "source": [
    "# Series 的排序"
   ]
  },
  {
   "cell_type": "code",
   "execution_count": 3,
   "metadata": {},
   "outputs": [],
   "source": [
    "s1 = Series(np.random.randn(10))"
   ]
  },
  {
   "cell_type": "code",
   "execution_count": 4,
   "metadata": {},
   "outputs": [
    {
     "data": {
      "text/plain": [
       "0   -1.078276\n",
       "1   -0.335734\n",
       "2    0.612116\n",
       "3   -0.192403\n",
       "4   -0.666701\n",
       "5    0.795162\n",
       "6    0.222805\n",
       "7   -1.283651\n",
       "8    0.004346\n",
       "9    0.766276\n",
       "dtype: float64"
      ]
     },
     "execution_count": 4,
     "metadata": {},
     "output_type": "execute_result"
    }
   ],
   "source": [
    "s1"
   ]
  },
  {
   "cell_type": "code",
   "execution_count": 5,
   "metadata": {},
   "outputs": [
    {
     "data": {
      "text/plain": [
       "array([-1.07827555, -0.33573359,  0.61211574, -0.1924031 , -0.66670069,\n",
       "        0.79516248,  0.22280548, -1.28365067,  0.0043459 ,  0.76627564])"
      ]
     },
     "execution_count": 5,
     "metadata": {},
     "output_type": "execute_result"
    }
   ],
   "source": [
    "s1.values"
   ]
  },
  {
   "cell_type": "code",
   "execution_count": 6,
   "metadata": {},
   "outputs": [
    {
     "data": {
      "text/plain": [
       "RangeIndex(start=0, stop=10, step=1)"
      ]
     },
     "execution_count": 6,
     "metadata": {},
     "output_type": "execute_result"
    }
   ],
   "source": [
    "s1.index"
   ]
  },
  {
   "cell_type": "code",
   "execution_count": 8,
   "metadata": {},
   "outputs": [
    {
     "data": {
      "text/plain": [
       "5    0.795162\n",
       "9    0.766276\n",
       "2    0.612116\n",
       "6    0.222805\n",
       "8    0.004346\n",
       "3   -0.192403\n",
       "1   -0.335734\n",
       "4   -0.666701\n",
       "0   -1.078276\n",
       "7   -1.283651\n",
       "dtype: float64"
      ]
     },
     "execution_count": 8,
     "metadata": {},
     "output_type": "execute_result"
    }
   ],
   "source": [
    "s2 = s1.sort_values(ascending=False)\n",
    "s2"
   ]
  },
  {
   "cell_type": "code",
   "execution_count": 9,
   "metadata": {},
   "outputs": [
    {
     "data": {
      "text/plain": [
       "0   -1.078276\n",
       "1   -0.335734\n",
       "2    0.612116\n",
       "3   -0.192403\n",
       "4   -0.666701\n",
       "5    0.795162\n",
       "6    0.222805\n",
       "7   -1.283651\n",
       "8    0.004346\n",
       "9    0.766276\n",
       "dtype: float64"
      ]
     },
     "execution_count": 9,
     "metadata": {},
     "output_type": "execute_result"
    }
   ],
   "source": [
    "s2.sort_index()"
   ]
  },
  {
   "cell_type": "markdown",
   "metadata": {},
   "source": [
    "# DataFrame的排序"
   ]
  },
  {
   "cell_type": "code",
   "execution_count": 14,
   "metadata": {},
   "outputs": [],
   "source": [
    "df1 = DataFrame(np.random.randn(40).reshape(8,5), columns=['A', 'B','C', 'D', 'E'])"
   ]
  },
  {
   "cell_type": "code",
   "execution_count": 15,
   "metadata": {},
   "outputs": [
    {
     "data": {
      "text/html": [
       "<div>\n",
       "<style scoped>\n",
       "    .dataframe tbody tr th:only-of-type {\n",
       "        vertical-align: middle;\n",
       "    }\n",
       "\n",
       "    .dataframe tbody tr th {\n",
       "        vertical-align: top;\n",
       "    }\n",
       "\n",
       "    .dataframe thead th {\n",
       "        text-align: right;\n",
       "    }\n",
       "</style>\n",
       "<table border=\"1\" class=\"dataframe\">\n",
       "  <thead>\n",
       "    <tr style=\"text-align: right;\">\n",
       "      <th></th>\n",
       "      <th>A</th>\n",
       "      <th>B</th>\n",
       "      <th>C</th>\n",
       "      <th>D</th>\n",
       "      <th>E</th>\n",
       "    </tr>\n",
       "  </thead>\n",
       "  <tbody>\n",
       "    <tr>\n",
       "      <th>0</th>\n",
       "      <td>2.321300</td>\n",
       "      <td>-0.574126</td>\n",
       "      <td>-0.460222</td>\n",
       "      <td>-2.599274</td>\n",
       "      <td>-1.101862</td>\n",
       "    </tr>\n",
       "    <tr>\n",
       "      <th>1</th>\n",
       "      <td>-0.993330</td>\n",
       "      <td>-0.547790</td>\n",
       "      <td>0.549848</td>\n",
       "      <td>-0.533200</td>\n",
       "      <td>-0.650657</td>\n",
       "    </tr>\n",
       "    <tr>\n",
       "      <th>2</th>\n",
       "      <td>1.873062</td>\n",
       "      <td>0.824657</td>\n",
       "      <td>-0.932227</td>\n",
       "      <td>-1.076516</td>\n",
       "      <td>0.788532</td>\n",
       "    </tr>\n",
       "    <tr>\n",
       "      <th>3</th>\n",
       "      <td>-0.664896</td>\n",
       "      <td>0.936446</td>\n",
       "      <td>-0.983881</td>\n",
       "      <td>-0.153875</td>\n",
       "      <td>-0.615307</td>\n",
       "    </tr>\n",
       "    <tr>\n",
       "      <th>4</th>\n",
       "      <td>-0.988572</td>\n",
       "      <td>-0.068120</td>\n",
       "      <td>-0.949006</td>\n",
       "      <td>-1.509892</td>\n",
       "      <td>0.382613</td>\n",
       "    </tr>\n",
       "    <tr>\n",
       "      <th>5</th>\n",
       "      <td>0.818854</td>\n",
       "      <td>-0.114186</td>\n",
       "      <td>-0.484212</td>\n",
       "      <td>-0.293307</td>\n",
       "      <td>1.242427</td>\n",
       "    </tr>\n",
       "    <tr>\n",
       "      <th>6</th>\n",
       "      <td>0.755143</td>\n",
       "      <td>-1.250600</td>\n",
       "      <td>1.017339</td>\n",
       "      <td>-1.227436</td>\n",
       "      <td>1.655820</td>\n",
       "    </tr>\n",
       "    <tr>\n",
       "      <th>7</th>\n",
       "      <td>-0.903646</td>\n",
       "      <td>0.540217</td>\n",
       "      <td>-1.490169</td>\n",
       "      <td>0.554262</td>\n",
       "      <td>-0.002953</td>\n",
       "    </tr>\n",
       "  </tbody>\n",
       "</table>\n",
       "</div>"
      ],
      "text/plain": [
       "          A         B         C         D         E\n",
       "0  2.321300 -0.574126 -0.460222 -2.599274 -1.101862\n",
       "1 -0.993330 -0.547790  0.549848 -0.533200 -0.650657\n",
       "2  1.873062  0.824657 -0.932227 -1.076516  0.788532\n",
       "3 -0.664896  0.936446 -0.983881 -0.153875 -0.615307\n",
       "4 -0.988572 -0.068120 -0.949006 -1.509892  0.382613\n",
       "5  0.818854 -0.114186 -0.484212 -0.293307  1.242427\n",
       "6  0.755143 -1.250600  1.017339 -1.227436  1.655820\n",
       "7 -0.903646  0.540217 -1.490169  0.554262 -0.002953"
      ]
     },
     "execution_count": 15,
     "metadata": {},
     "output_type": "execute_result"
    }
   ],
   "source": [
    "df1"
   ]
  },
  {
   "cell_type": "code",
   "execution_count": 17,
   "metadata": {},
   "outputs": [
    {
     "data": {
      "text/plain": [
       "1   -0.993330\n",
       "4   -0.988572\n",
       "7   -0.903646\n",
       "3   -0.664896\n",
       "6    0.755143\n",
       "5    0.818854\n",
       "2    1.873062\n",
       "0    2.321300\n",
       "Name: A, dtype: float64"
      ]
     },
     "execution_count": 17,
     "metadata": {},
     "output_type": "execute_result"
    }
   ],
   "source": [
    "df1['A'].sort_values()"
   ]
  },
  {
   "cell_type": "code",
   "execution_count": 18,
   "metadata": {},
   "outputs": [
    {
     "data": {
      "text/html": [
       "<div>\n",
       "<style scoped>\n",
       "    .dataframe tbody tr th:only-of-type {\n",
       "        vertical-align: middle;\n",
       "    }\n",
       "\n",
       "    .dataframe tbody tr th {\n",
       "        vertical-align: top;\n",
       "    }\n",
       "\n",
       "    .dataframe thead th {\n",
       "        text-align: right;\n",
       "    }\n",
       "</style>\n",
       "<table border=\"1\" class=\"dataframe\">\n",
       "  <thead>\n",
       "    <tr style=\"text-align: right;\">\n",
       "      <th></th>\n",
       "      <th>A</th>\n",
       "      <th>B</th>\n",
       "      <th>C</th>\n",
       "      <th>D</th>\n",
       "      <th>E</th>\n",
       "    </tr>\n",
       "  </thead>\n",
       "  <tbody>\n",
       "    <tr>\n",
       "      <th>1</th>\n",
       "      <td>-0.993330</td>\n",
       "      <td>-0.547790</td>\n",
       "      <td>0.549848</td>\n",
       "      <td>-0.533200</td>\n",
       "      <td>-0.650657</td>\n",
       "    </tr>\n",
       "    <tr>\n",
       "      <th>4</th>\n",
       "      <td>-0.988572</td>\n",
       "      <td>-0.068120</td>\n",
       "      <td>-0.949006</td>\n",
       "      <td>-1.509892</td>\n",
       "      <td>0.382613</td>\n",
       "    </tr>\n",
       "    <tr>\n",
       "      <th>7</th>\n",
       "      <td>-0.903646</td>\n",
       "      <td>0.540217</td>\n",
       "      <td>-1.490169</td>\n",
       "      <td>0.554262</td>\n",
       "      <td>-0.002953</td>\n",
       "    </tr>\n",
       "    <tr>\n",
       "      <th>3</th>\n",
       "      <td>-0.664896</td>\n",
       "      <td>0.936446</td>\n",
       "      <td>-0.983881</td>\n",
       "      <td>-0.153875</td>\n",
       "      <td>-0.615307</td>\n",
       "    </tr>\n",
       "    <tr>\n",
       "      <th>6</th>\n",
       "      <td>0.755143</td>\n",
       "      <td>-1.250600</td>\n",
       "      <td>1.017339</td>\n",
       "      <td>-1.227436</td>\n",
       "      <td>1.655820</td>\n",
       "    </tr>\n",
       "    <tr>\n",
       "      <th>5</th>\n",
       "      <td>0.818854</td>\n",
       "      <td>-0.114186</td>\n",
       "      <td>-0.484212</td>\n",
       "      <td>-0.293307</td>\n",
       "      <td>1.242427</td>\n",
       "    </tr>\n",
       "    <tr>\n",
       "      <th>2</th>\n",
       "      <td>1.873062</td>\n",
       "      <td>0.824657</td>\n",
       "      <td>-0.932227</td>\n",
       "      <td>-1.076516</td>\n",
       "      <td>0.788532</td>\n",
       "    </tr>\n",
       "    <tr>\n",
       "      <th>0</th>\n",
       "      <td>2.321300</td>\n",
       "      <td>-0.574126</td>\n",
       "      <td>-0.460222</td>\n",
       "      <td>-2.599274</td>\n",
       "      <td>-1.101862</td>\n",
       "    </tr>\n",
       "  </tbody>\n",
       "</table>\n",
       "</div>"
      ],
      "text/plain": [
       "          A         B         C         D         E\n",
       "1 -0.993330 -0.547790  0.549848 -0.533200 -0.650657\n",
       "4 -0.988572 -0.068120 -0.949006 -1.509892  0.382613\n",
       "7 -0.903646  0.540217 -1.490169  0.554262 -0.002953\n",
       "3 -0.664896  0.936446 -0.983881 -0.153875 -0.615307\n",
       "6  0.755143 -1.250600  1.017339 -1.227436  1.655820\n",
       "5  0.818854 -0.114186 -0.484212 -0.293307  1.242427\n",
       "2  1.873062  0.824657 -0.932227 -1.076516  0.788532\n",
       "0  2.321300 -0.574126 -0.460222 -2.599274 -1.101862"
      ]
     },
     "execution_count": 18,
     "metadata": {},
     "output_type": "execute_result"
    }
   ],
   "source": [
    "df1.sort_values('A')"
   ]
  },
  {
   "cell_type": "code",
   "execution_count": 19,
   "metadata": {},
   "outputs": [
    {
     "data": {
      "text/html": [
       "<div>\n",
       "<style scoped>\n",
       "    .dataframe tbody tr th:only-of-type {\n",
       "        vertical-align: middle;\n",
       "    }\n",
       "\n",
       "    .dataframe tbody tr th {\n",
       "        vertical-align: top;\n",
       "    }\n",
       "\n",
       "    .dataframe thead th {\n",
       "        text-align: right;\n",
       "    }\n",
       "</style>\n",
       "<table border=\"1\" class=\"dataframe\">\n",
       "  <thead>\n",
       "    <tr style=\"text-align: right;\">\n",
       "      <th></th>\n",
       "      <th>A</th>\n",
       "      <th>B</th>\n",
       "      <th>C</th>\n",
       "      <th>D</th>\n",
       "      <th>E</th>\n",
       "    </tr>\n",
       "  </thead>\n",
       "  <tbody>\n",
       "    <tr>\n",
       "      <th>1</th>\n",
       "      <td>-0.993330</td>\n",
       "      <td>-0.547790</td>\n",
       "      <td>0.549848</td>\n",
       "      <td>-0.533200</td>\n",
       "      <td>-0.650657</td>\n",
       "    </tr>\n",
       "    <tr>\n",
       "      <th>4</th>\n",
       "      <td>-0.988572</td>\n",
       "      <td>-0.068120</td>\n",
       "      <td>-0.949006</td>\n",
       "      <td>-1.509892</td>\n",
       "      <td>0.382613</td>\n",
       "    </tr>\n",
       "    <tr>\n",
       "      <th>7</th>\n",
       "      <td>-0.903646</td>\n",
       "      <td>0.540217</td>\n",
       "      <td>-1.490169</td>\n",
       "      <td>0.554262</td>\n",
       "      <td>-0.002953</td>\n",
       "    </tr>\n",
       "    <tr>\n",
       "      <th>3</th>\n",
       "      <td>-0.664896</td>\n",
       "      <td>0.936446</td>\n",
       "      <td>-0.983881</td>\n",
       "      <td>-0.153875</td>\n",
       "      <td>-0.615307</td>\n",
       "    </tr>\n",
       "    <tr>\n",
       "      <th>6</th>\n",
       "      <td>0.755143</td>\n",
       "      <td>-1.250600</td>\n",
       "      <td>1.017339</td>\n",
       "      <td>-1.227436</td>\n",
       "      <td>1.655820</td>\n",
       "    </tr>\n",
       "    <tr>\n",
       "      <th>5</th>\n",
       "      <td>0.818854</td>\n",
       "      <td>-0.114186</td>\n",
       "      <td>-0.484212</td>\n",
       "      <td>-0.293307</td>\n",
       "      <td>1.242427</td>\n",
       "    </tr>\n",
       "    <tr>\n",
       "      <th>2</th>\n",
       "      <td>1.873062</td>\n",
       "      <td>0.824657</td>\n",
       "      <td>-0.932227</td>\n",
       "      <td>-1.076516</td>\n",
       "      <td>0.788532</td>\n",
       "    </tr>\n",
       "    <tr>\n",
       "      <th>0</th>\n",
       "      <td>2.321300</td>\n",
       "      <td>-0.574126</td>\n",
       "      <td>-0.460222</td>\n",
       "      <td>-2.599274</td>\n",
       "      <td>-1.101862</td>\n",
       "    </tr>\n",
       "  </tbody>\n",
       "</table>\n",
       "</div>"
      ],
      "text/plain": [
       "          A         B         C         D         E\n",
       "1 -0.993330 -0.547790  0.549848 -0.533200 -0.650657\n",
       "4 -0.988572 -0.068120 -0.949006 -1.509892  0.382613\n",
       "7 -0.903646  0.540217 -1.490169  0.554262 -0.002953\n",
       "3 -0.664896  0.936446 -0.983881 -0.153875 -0.615307\n",
       "6  0.755143 -1.250600  1.017339 -1.227436  1.655820\n",
       "5  0.818854 -0.114186 -0.484212 -0.293307  1.242427\n",
       "2  1.873062  0.824657 -0.932227 -1.076516  0.788532\n",
       "0  2.321300 -0.574126 -0.460222 -2.599274 -1.101862"
      ]
     },
     "execution_count": 19,
     "metadata": {},
     "output_type": "execute_result"
    }
   ],
   "source": [
    "df2 = df1.sort_values('A')\n",
    "df2"
   ]
  },
  {
   "cell_type": "code",
   "execution_count": 20,
   "metadata": {},
   "outputs": [
    {
     "data": {
      "text/html": [
       "<div>\n",
       "<style scoped>\n",
       "    .dataframe tbody tr th:only-of-type {\n",
       "        vertical-align: middle;\n",
       "    }\n",
       "\n",
       "    .dataframe tbody tr th {\n",
       "        vertical-align: top;\n",
       "    }\n",
       "\n",
       "    .dataframe thead th {\n",
       "        text-align: right;\n",
       "    }\n",
       "</style>\n",
       "<table border=\"1\" class=\"dataframe\">\n",
       "  <thead>\n",
       "    <tr style=\"text-align: right;\">\n",
       "      <th></th>\n",
       "      <th>A</th>\n",
       "      <th>B</th>\n",
       "      <th>C</th>\n",
       "      <th>D</th>\n",
       "      <th>E</th>\n",
       "    </tr>\n",
       "  </thead>\n",
       "  <tbody>\n",
       "    <tr>\n",
       "      <th>0</th>\n",
       "      <td>2.321300</td>\n",
       "      <td>-0.574126</td>\n",
       "      <td>-0.460222</td>\n",
       "      <td>-2.599274</td>\n",
       "      <td>-1.101862</td>\n",
       "    </tr>\n",
       "    <tr>\n",
       "      <th>1</th>\n",
       "      <td>-0.993330</td>\n",
       "      <td>-0.547790</td>\n",
       "      <td>0.549848</td>\n",
       "      <td>-0.533200</td>\n",
       "      <td>-0.650657</td>\n",
       "    </tr>\n",
       "    <tr>\n",
       "      <th>2</th>\n",
       "      <td>1.873062</td>\n",
       "      <td>0.824657</td>\n",
       "      <td>-0.932227</td>\n",
       "      <td>-1.076516</td>\n",
       "      <td>0.788532</td>\n",
       "    </tr>\n",
       "    <tr>\n",
       "      <th>3</th>\n",
       "      <td>-0.664896</td>\n",
       "      <td>0.936446</td>\n",
       "      <td>-0.983881</td>\n",
       "      <td>-0.153875</td>\n",
       "      <td>-0.615307</td>\n",
       "    </tr>\n",
       "    <tr>\n",
       "      <th>4</th>\n",
       "      <td>-0.988572</td>\n",
       "      <td>-0.068120</td>\n",
       "      <td>-0.949006</td>\n",
       "      <td>-1.509892</td>\n",
       "      <td>0.382613</td>\n",
       "    </tr>\n",
       "    <tr>\n",
       "      <th>5</th>\n",
       "      <td>0.818854</td>\n",
       "      <td>-0.114186</td>\n",
       "      <td>-0.484212</td>\n",
       "      <td>-0.293307</td>\n",
       "      <td>1.242427</td>\n",
       "    </tr>\n",
       "    <tr>\n",
       "      <th>6</th>\n",
       "      <td>0.755143</td>\n",
       "      <td>-1.250600</td>\n",
       "      <td>1.017339</td>\n",
       "      <td>-1.227436</td>\n",
       "      <td>1.655820</td>\n",
       "    </tr>\n",
       "    <tr>\n",
       "      <th>7</th>\n",
       "      <td>-0.903646</td>\n",
       "      <td>0.540217</td>\n",
       "      <td>-1.490169</td>\n",
       "      <td>0.554262</td>\n",
       "      <td>-0.002953</td>\n",
       "    </tr>\n",
       "  </tbody>\n",
       "</table>\n",
       "</div>"
      ],
      "text/plain": [
       "          A         B         C         D         E\n",
       "0  2.321300 -0.574126 -0.460222 -2.599274 -1.101862\n",
       "1 -0.993330 -0.547790  0.549848 -0.533200 -0.650657\n",
       "2  1.873062  0.824657 -0.932227 -1.076516  0.788532\n",
       "3 -0.664896  0.936446 -0.983881 -0.153875 -0.615307\n",
       "4 -0.988572 -0.068120 -0.949006 -1.509892  0.382613\n",
       "5  0.818854 -0.114186 -0.484212 -0.293307  1.242427\n",
       "6  0.755143 -1.250600  1.017339 -1.227436  1.655820\n",
       "7 -0.903646  0.540217 -1.490169  0.554262 -0.002953"
      ]
     },
     "execution_count": 20,
     "metadata": {},
     "output_type": "execute_result"
    }
   ],
   "source": [
    "df2.sort_index()"
   ]
  },
  {
   "cell_type": "code",
   "execution_count": null,
   "metadata": {},
   "outputs": [],
   "source": []
  }
 ],
 "metadata": {
  "kernelspec": {
   "display_name": "Python 3",
   "language": "python",
   "name": "python3"
  },
  "language_info": {
   "codemirror_mode": {
    "name": "ipython",
    "version": 3
   },
   "file_extension": ".py",
   "mimetype": "text/x-python",
   "name": "python",
   "nbconvert_exporter": "python",
   "pygments_lexer": "ipython3",
   "version": "3.7.1"
  }
 },
 "nbformat": 4,
 "nbformat_minor": 2
}
